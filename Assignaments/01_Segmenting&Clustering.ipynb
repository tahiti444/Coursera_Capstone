{
 "cells": [
  {
   "cell_type": "markdown",
   "metadata": {},
   "source": [
    "# ASSIGN NEIGHBORHOODS OF TORONTO"
   ]
  },
  {
   "cell_type": "code",
   "execution_count": 16,
   "metadata": {},
   "outputs": [],
   "source": [
    "import pandas as pd\n",
    "import numpy as np\n"
   ]
  },
  {
   "cell_type": "code",
   "execution_count": 17,
   "metadata": {},
   "outputs": [],
   "source": [
    "url = 'https://en.wikipedia.org/wiki/List_of_postal_codes_of_Canada:_M'"
   ]
  },
  {
   "cell_type": "markdown",
   "metadata": {},
   "source": [
    "## Pre-Processing the data:\n",
    "Let's import, clear and rename the data frame"
   ]
  },
  {
   "cell_type": "code",
   "execution_count": 18,
   "metadata": {},
   "outputs": [
    {
     "name": "stdout",
     "output_type": "stream",
     "text": [
      "  PostalCode           Borough                                  Neighborhood\n",
      "2        M3A        North York                                     Parkwoods\n",
      "3        M4A        North York                              Victoria Village\n",
      "4        M5A  Downtown Toronto                    Regent Park / Harbourfront\n",
      "5        M6A        North York             Lawrence Manor / Lawrence Heights\n",
      "6        M7A  Downtown Toronto  Queen's Park / Ontario Provincial Government\n"
     ]
    }
   ],
   "source": [
    "series_of_dataframes = pd.read_html(url)    # import raw data\n",
    "df_first = series_of_dataframes[0]          # first dataframe from sereies of dataframes\n",
    "\n",
    "# Select not assigned (na)\n",
    "# na_nan_series = (df_first['Borough']=='Not assigned') & (df_first['Neighborhood'].isnull())\n",
    "na_series = df_first['Borough']=='Not assigned'\n",
    "\n",
    "# define clear of na's dataframe\n",
    "df = df_first[na_series==False].rename(columns={'Postal code': 'PostalCode'})\n",
    "print (df.head())"
   ]
  },
  {
   "cell_type": "markdown",
   "metadata": {},
   "source": [
    "## Pre-Processing the data (continued):\n",
    "1) If more than one neighborhood exist in one postal code area they need to be combined.\n",
    "\n",
    "2) If a cell has a borough but a Not assigned neighborhood, then the neighborhood will be the same as the borough.\n",
    "\n",
    "lets merge this properly:"
   ]
  },
  {
   "cell_type": "code",
   "execution_count": 19,
   "metadata": {},
   "outputs": [
    {
     "name": "stdout",
     "output_type": "stream",
     "text": [
      "The inititial Dataframe has 180 number of rows\n",
      "The filtered Dataframe has 103 number of rows\n",
      "PostalCode is OK, none of its values is doubled\n",
      "Duplicated found in:\n",
      "              0     1     2     3     4     5     6     7\n",
      "11    Don Mills  None  None  None  None  None  None  None\n",
      "20    Don Mills  None  None  None  None  None  None  None\n",
      "65    Downsview  None  None  None  None  None  None  None\n",
      "74    Downsview  None  None  None  None  None  None  None\n",
      "83    Downsview  None  None  None  None  None  None  None\n",
      "91   Willowdale  None  None  None  None  None  None  None\n",
      "92    Downsview  None  None  None  None  None  None  None\n",
      "109  Willowdale  None  None  None  None  None  None  None\n",
      "Postal code            M3B\n",
      "Borough         North York\n",
      "Neighborhood     Don Mills\n",
      "Name: 11, dtype: object\n",
      "Postal code            M3C\n",
      "Borough         North York\n",
      "Neighborhood     Don Mills\n",
      "Name: 20, dtype: object\n",
      "Postal code            M3K\n",
      "Borough         North York\n",
      "Neighborhood     Downsview\n",
      "Name: 65, dtype: object\n",
      "Postal code            M3L\n",
      "Borough         North York\n",
      "Neighborhood     Downsview\n",
      "Name: 74, dtype: object\n",
      "Postal code            M3M\n",
      "Borough         North York\n",
      "Neighborhood     Downsview\n",
      "Name: 83, dtype: object\n",
      "Postal code            M2N\n",
      "Borough         North York\n",
      "Neighborhood    Willowdale\n",
      "Name: 91, dtype: object\n",
      "Postal code            M3N\n",
      "Borough         North York\n",
      "Neighborhood     Downsview\n",
      "Name: 92, dtype: object\n",
      "Postal code            M2R\n",
      "Borough         North York\n",
      "Neighborhood    Willowdale\n",
      "Name: 109, dtype: object\n",
      "Dataframe now comma-separated\n",
      "   PostalCode           Borough                                  Neighborhood\n",
      "2        M3A        North York                                     Parkwoods\n",
      "3        M4A        North York                              Victoria Village\n",
      "4        M5A  Downtown Toronto                    Regent Park , Harbourfront\n",
      "5        M6A        North York             Lawrence Manor , Lawrence Heights\n",
      "6        M7A  Downtown Toronto  Queen's Park , Ontario Provincial Government\n"
     ]
    }
   ],
   "source": [
    "# 1) First point (see above)\n",
    "\n",
    "# let's check shape of initial DataFrame:\n",
    "print ('The inititial Dataframe has {} number of rows'.format(df_first.shape[0]))\n",
    "print ('The filtered Dataframe has {} number of rows'.format(df.shape[0]))\n",
    "'''\n",
    "One can see some empties were drop!\n",
    "'''\n",
    "\n",
    "# Check if PostalCode is unique for every row and there are no doubled postal codes\n",
    "doubled = df['PostalCode'].unique().shape\n",
    "if (df.shape[0]==doubled[0]):\n",
    "    print ('PostalCode is OK, none of its values is doubled')\n",
    "else:\n",
    "    print ('some incongruences found, please check consistency')\n",
    "\n",
    "# Check if neighborhoods are repited:\n",
    "# let's split neighborhoods \"hyphen-separated\" into columns\n",
    "neighborhoods = df['Neighborhood'].str.split(pat=\"/\", expand=True)\n",
    "# let's check duplicated rows\n",
    "duplic = neighborhoods[neighborhoods.duplicated(keep=False)] \n",
    "print('Duplicated found in:')\n",
    "print (duplic)\n",
    "\n",
    "# let's check this rows in detail:\n",
    "print (df_first.iloc[11])\n",
    "print (df_first.iloc[20])\n",
    "print (df_first.iloc[65])\n",
    "print (df_first.iloc[74])\n",
    "print (df_first.iloc[83])\n",
    "print (df_first.iloc[91])\n",
    "print (df_first.iloc[92])\n",
    "print (df_first.iloc[109])\n",
    "\n",
    "'''\n",
    "CONCLUSION ON THIS:\n",
    "There are neighborhoods so big that they have several Postal codes so:\n",
    "    Nothing is wrong with them\n",
    "'''\n",
    "\n",
    "# let's continue and separate them with comma as asked\n",
    "df['Neighborhood'] = df['Neighborhood'].str.replace('/', ',')\n",
    "print ('Dataframe now comma-separated\\n', df.head())\n",
    "\n"
   ]
  },
  {
   "cell_type": "code",
   "execution_count": 20,
   "metadata": {},
   "outputs": [
    {
     "name": "stdout",
     "output_type": "stream",
     "text": [
      "None of the given neighborhoods is unnamed\n"
     ]
    }
   ],
   "source": [
    "# 2) Second point (see above)\n",
    "\n",
    "# let's check if a borough is given but neighborhood is empty\n",
    "na_nan_series = ((df['Borough']!='Not assigned')|(df['Borough']!='')) & (df['Neighborhood'].isnull())\n",
    "test = df[na_nan_series]\n",
    "if (test.empty):\n",
    "    print ('None of the given neighborhoods is unnamed')\n",
    "else:\n",
    "    print ('error')\n",
    "    print ('###############')\n",
    "\n",
    "# continue..."
   ]
  },
  {
   "cell_type": "markdown",
   "metadata": {},
   "source": [
    "## Conclusion\n",
    "The Data Frame is now clear of empties and in the format in which was asked.\n",
    "Let's conclude this part with dimensions of resulting Data Frame and head & tail methods:"
   ]
  },
  {
   "cell_type": "code",
   "execution_count": 21,
   "metadata": {},
   "outputs": [
    {
     "name": "stdout",
     "output_type": "stream",
     "text": [
      "The resulting shape of my Data Frame is: (103, 3)\n",
      "Here head:\n",
      "  PostalCode           Borough                                  Neighborhood\n",
      "2        M3A        North York                                     Parkwoods\n",
      "3        M4A        North York                              Victoria Village\n",
      "4        M5A  Downtown Toronto                    Regent Park , Harbourfront\n",
      "5        M6A        North York             Lawrence Manor , Lawrence Heights\n",
      "6        M7A  Downtown Toronto  Queen's Park , Ontario Provincial Government\n",
      "and tail:\n",
      "    PostalCode           Borough  \\\n",
      "160        M8X         Etobicoke   \n",
      "165        M4Y  Downtown Toronto   \n",
      "168        M7Y      East Toronto   \n",
      "169        M8Y         Etobicoke   \n",
      "178        M8Z         Etobicoke   \n",
      "\n",
      "                                          Neighborhood  \n",
      "160    The Kingsway , Montgomery Road , Old Mill North  \n",
      "165                               Church and Wellesley  \n",
      "168              Business reply mail Processing CentrE  \n",
      "169  Old Mill South , King's Mill Park , Sunnylea ,...  \n",
      "178  Mimico NW , The Queensway West , South of Bloo...  \n"
     ]
    }
   ],
   "source": [
    "# shape of resulting Data Frame:\n",
    "print ('The resulting shape of my Data Frame is: {}'.format(df.shape))\n",
    "print ('Here head:')\n",
    "print (df.head())\n",
    "print ('and tail:')\n",
    "print (df.tail())"
   ]
  },
  {
   "cell_type": "markdown",
   "metadata": {},
   "source": [
    "# GEOCODER"
   ]
  },
  {
   "cell_type": "markdown",
   "metadata": {},
   "source": [
    "Here we need to get the latitude and the longitude coordinates of each neighborhood.\n",
    "For this we are going to merge dataframes (one aout of wikipedia and the other sourced from Coursera as CSV).\n",
    "I was not able to bring anything of geocoder to yield and I gave up! RRRRhhh.... :/"
   ]
  },
  {
   "cell_type": "code",
   "execution_count": 28,
   "metadata": {},
   "outputs": [
    {
     "name": "stdout",
     "output_type": "stream",
     "text": [
      "    PostalCode           Borough  \\\n",
      "0          M3A        North York   \n",
      "1          M4A        North York   \n",
      "2          M5A  Downtown Toronto   \n",
      "3          M6A        North York   \n",
      "4          M7A  Downtown Toronto   \n",
      "..         ...               ...   \n",
      "98         M8X         Etobicoke   \n",
      "99         M4Y  Downtown Toronto   \n",
      "100        M7Y      East Toronto   \n",
      "101        M8Y         Etobicoke   \n",
      "102        M8Z         Etobicoke   \n",
      "\n",
      "                                          Neighborhood   Latitude  Longitude  \n",
      "0                                            Parkwoods  43.753259 -79.329656  \n",
      "1                                     Victoria Village  43.725882 -79.315572  \n",
      "2                           Regent Park , Harbourfront  43.654260 -79.360636  \n",
      "3                    Lawrence Manor , Lawrence Heights  43.718518 -79.464763  \n",
      "4         Queen's Park , Ontario Provincial Government  43.662301 -79.389494  \n",
      "..                                                 ...        ...        ...  \n",
      "98     The Kingsway , Montgomery Road , Old Mill North  43.653654 -79.506944  \n",
      "99                                Church and Wellesley  43.665860 -79.383160  \n",
      "100              Business reply mail Processing CentrE  43.662744 -79.321558  \n",
      "101  Old Mill South , King's Mill Park , Sunnylea ,...  43.636258 -79.498509  \n",
      "102  Mimico NW , The Queensway West , South of Bloo...  43.628841 -79.520999  \n",
      "\n",
      "[103 rows x 5 columns]\n"
     ]
    }
   ],
   "source": [
    "# !cat ../data/Geospatial_Coordinates.csv\n",
    "geo_df = pd.read_csv('../data/Geospatial_Coordinates.csv')\n",
    "geo_df = geo_df.rename(columns={'Postal Code': 'PostalCode'})\n",
    "\n",
    "geo_df = df.merge(geo_df, how='outer', on='PostalCode')\n",
    "print (geo_df)\n"
   ]
  },
  {
   "cell_type": "code",
   "execution_count": 10,
   "metadata": {},
   "outputs": [
    {
     "name": "stdout",
     "output_type": "stream",
     "text": [
      "None\n"
     ]
    }
   ],
   "source": []
  },
  {
   "cell_type": "code",
   "execution_count": null,
   "metadata": {},
   "outputs": [],
   "source": []
  }
 ],
 "metadata": {
  "kernelspec": {
   "display_name": "Python 3",
   "language": "python",
   "name": "python3"
  },
  "language_info": {
   "codemirror_mode": {
    "name": "ipython",
    "version": 3
   },
   "file_extension": ".py",
   "mimetype": "text/x-python",
   "name": "python",
   "nbconvert_exporter": "python",
   "pygments_lexer": "ipython3",
   "version": "3.7.6"
  }
 },
 "nbformat": 4,
 "nbformat_minor": 2
}